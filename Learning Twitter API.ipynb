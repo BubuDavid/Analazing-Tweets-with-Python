{
 "cells": [
  {
   "cell_type": "markdown",
   "id": "f192abd1",
   "metadata": {},
   "source": [
    "# Starting with..."
   ]
  },
  {
   "cell_type": "code",
   "execution_count": 28,
   "id": "2b9ddd8f",
   "metadata": {},
   "outputs": [],
   "source": [
    "import tweepy\n",
    "import os\n",
    "import time\n",
    "import pandas as pd\n",
    "from IPython.display import display, clear_output"
   ]
  },
  {
   "cell_type": "code",
   "execution_count": 3,
   "id": "52778860",
   "metadata": {},
   "outputs": [],
   "source": [
    "# Defining our secret keys c:\n",
    "consumer_key = os.environ['TWITTER_CONSUMER_KEY']\n",
    "consumer_secret = os.environ['TWITTER_SECRET_KEY']\n",
    "bearer_token = os.environ['TWITTER_BEARER_TOKEN']\n",
    "access_token = os.environ['ACCESS_TOKEN']\n",
    "access_token_secret = os.environ['ACCESS_TOKEN_SECRET']"
   ]
  },
  {
   "cell_type": "code",
   "execution_count": 4,
   "id": "9c70e508",
   "metadata": {},
   "outputs": [],
   "source": [
    "# Getting authentication\n",
    "auth = tweepy.OAuthHandler(consumer_key, consumer_secret)"
   ]
  },
  {
   "cell_type": "code",
   "execution_count": 5,
   "id": "201516d5",
   "metadata": {},
   "outputs": [],
   "source": [
    "# Getting my authorization token\n",
    "try:\n",
    "    redirect_url = auth.get_authorization_url()\n",
    "except tweepy.TweepError:\n",
    "    print('Error! Failed to get request token.')"
   ]
  },
  {
   "cell_type": "code",
   "execution_count": 6,
   "id": "b207d296",
   "metadata": {},
   "outputs": [],
   "source": [
    "# Setting the access tokens\n",
    "auth.set_access_token(access_token, access_token_secret)"
   ]
  },
  {
   "cell_type": "code",
   "execution_count": 7,
   "id": "25e3adae",
   "metadata": {},
   "outputs": [],
   "source": [
    "# Now that we have access by this weird authenthification we can call the api for our app\n",
    "api = tweepy.API(auth, wait_on_rate_limit=True)"
   ]
  },
  {
   "cell_type": "code",
   "execution_count": 8,
   "id": "f6a72ab7",
   "metadata": {
    "scrolled": false
   },
   "outputs": [],
   "source": [
    "# Downloading my home timeline tweets and printing one fo their texts.\n",
    "public_tweets = api.home_timeline()\n",
    "for tweet in public_tweets:\n",
    "    #print(tweet.text) # Just uncomment this\n",
    "    pass"
   ]
  },
  {
   "cell_type": "code",
   "execution_count": 9,
   "id": "28f1a4cd",
   "metadata": {},
   "outputs": [],
   "source": [
    "# Get the User object for me c:...\n",
    "user = api.get_user('DBubu73')"
   ]
  },
  {
   "cell_type": "code",
   "execution_count": 10,
   "id": "55a29d80",
   "metadata": {},
   "outputs": [
    {
     "name": "stdout",
     "output_type": "stream",
     "text": [
      "DBubu73\n",
      "123\n"
     ]
    }
   ],
   "source": [
    "# Printing some information with \n",
    "print(user.screen_name)\n",
    "print(user.friends_count)\n",
    "for friend in user.friends():\n",
    "   # print(friend.screen_name) #Just uncomments this\n",
    "    pass"
   ]
  },
  {
   "cell_type": "markdown",
   "id": "477c2c8a",
   "metadata": {},
   "source": [
    "# Cursor"
   ]
  },
  {
   "cell_type": "code",
   "execution_count": 11,
   "id": "881537ee",
   "metadata": {},
   "outputs": [],
   "source": [
    "# Scrapping a user's first 200 tweets\n",
    "username = 'selenagomez'\n",
    "count = 200\n",
    "try:     \n",
    "    # Creation of query method using parameters\n",
    "    tweets = tweepy.Cursor(api.user_timeline,id=username, tweet_mode=\"extended\").items(count)\n",
    "\n",
    "    # Pulling information from tweets iterable object\n",
    "    tweets_list = [[tweet.created_at, tweet.id, tweet.full_text] for tweet in tweets]\n",
    "\n",
    "    # Creation of dataframe from tweets list\n",
    "    tweets_df = pd.DataFrame(tweets_list, columns=['Created', 'ID', 'Text'])\n",
    "except BaseException as e:\n",
    "    print('failed on_status,',str(e))\n",
    "    time.sleep(3)"
   ]
  },
  {
   "cell_type": "code",
   "execution_count": 12,
   "id": "5b20f71f",
   "metadata": {},
   "outputs": [
    {
     "data": {
      "text/html": [
       "<div>\n",
       "<style scoped>\n",
       "    .dataframe tbody tr th:only-of-type {\n",
       "        vertical-align: middle;\n",
       "    }\n",
       "\n",
       "    .dataframe tbody tr th {\n",
       "        vertical-align: top;\n",
       "    }\n",
       "\n",
       "    .dataframe thead th {\n",
       "        text-align: right;\n",
       "    }\n",
       "</style>\n",
       "<table border=\"1\" class=\"dataframe\">\n",
       "  <thead>\n",
       "    <tr style=\"text-align: right;\">\n",
       "      <th></th>\n",
       "      <th>Created</th>\n",
       "      <th>ID</th>\n",
       "      <th>Text</th>\n",
       "    </tr>\n",
       "  </thead>\n",
       "  <tbody>\n",
       "    <tr>\n",
       "      <th>0</th>\n",
       "      <td>2021-07-27 14:28:18</td>\n",
       "      <td>1420028274655309837</td>\n",
       "      <td>RT @OnlyMurdersHulu: Great, as if we weren’t a...</td>\n",
       "    </tr>\n",
       "    <tr>\n",
       "      <th>1</th>\n",
       "      <td>2021-07-27 14:12:45</td>\n",
       "      <td>1420024364725121036</td>\n",
       "      <td>We’re all neighbors here, but if I were you, I...</td>\n",
       "    </tr>\n",
       "    <tr>\n",
       "      <th>2</th>\n",
       "      <td>2021-07-23 17:09:02</td>\n",
       "      <td>1418619174096564224</td>\n",
       "      <td>RT @gofundme: Happy Birthday, @selenagomez 🥳\\n...</td>\n",
       "    </tr>\n",
       "    <tr>\n",
       "      <th>3</th>\n",
       "      <td>2021-07-22 18:56:07</td>\n",
       "      <td>1418283735812743168</td>\n",
       "      <td>RT @SelenaFanClub: We have a little gift for y...</td>\n",
       "    </tr>\n",
       "    <tr>\n",
       "      <th>4</th>\n",
       "      <td>2021-07-22 18:23:47</td>\n",
       "      <td>1418275595905998858</td>\n",
       "      <td>RT @rarebeauty: In honor of our founder’s birt...</td>\n",
       "    </tr>\n",
       "    <tr>\n",
       "      <th>...</th>\n",
       "      <td>...</td>\n",
       "      <td>...</td>\n",
       "      <td>...</td>\n",
       "    </tr>\n",
       "    <tr>\n",
       "      <th>195</th>\n",
       "      <td>2021-01-29 04:46:15</td>\n",
       "      <td>1355014370066128896</td>\n",
       "      <td>RT @rauwalejandro: Ya falta poco ... 😬</td>\n",
       "    </tr>\n",
       "    <tr>\n",
       "      <th>196</th>\n",
       "      <td>2021-01-29 04:46:12</td>\n",
       "      <td>1355014356929536001</td>\n",
       "      <td>@rauwalejandro 💃🏻</td>\n",
       "    </tr>\n",
       "    <tr>\n",
       "      <th>197</th>\n",
       "      <td>2021-01-29 04:08:49</td>\n",
       "      <td>1355004951680987136</td>\n",
       "      <td>RT @Tainy: The video for ‘Baila Conmigo’ is ou...</td>\n",
       "    </tr>\n",
       "    <tr>\n",
       "      <th>198</th>\n",
       "      <td>2021-01-29 04:08:32</td>\n",
       "      <td>1355004876716183553</td>\n",
       "      <td>RT @SteveMartinToGo: A special day on the set ...</td>\n",
       "    </tr>\n",
       "    <tr>\n",
       "      <th>199</th>\n",
       "      <td>2021-01-28 20:51:38</td>\n",
       "      <td>1354894930871808011</td>\n",
       "      <td>Clearly I make people nervous when I’m in the ...</td>\n",
       "    </tr>\n",
       "  </tbody>\n",
       "</table>\n",
       "<p>200 rows × 3 columns</p>\n",
       "</div>"
      ],
      "text/plain": [
       "                Created                   ID  \\\n",
       "0   2021-07-27 14:28:18  1420028274655309837   \n",
       "1   2021-07-27 14:12:45  1420024364725121036   \n",
       "2   2021-07-23 17:09:02  1418619174096564224   \n",
       "3   2021-07-22 18:56:07  1418283735812743168   \n",
       "4   2021-07-22 18:23:47  1418275595905998858   \n",
       "..                  ...                  ...   \n",
       "195 2021-01-29 04:46:15  1355014370066128896   \n",
       "196 2021-01-29 04:46:12  1355014356929536001   \n",
       "197 2021-01-29 04:08:49  1355004951680987136   \n",
       "198 2021-01-29 04:08:32  1355004876716183553   \n",
       "199 2021-01-28 20:51:38  1354894930871808011   \n",
       "\n",
       "                                                  Text  \n",
       "0    RT @OnlyMurdersHulu: Great, as if we weren’t a...  \n",
       "1    We’re all neighbors here, but if I were you, I...  \n",
       "2    RT @gofundme: Happy Birthday, @selenagomez 🥳\\n...  \n",
       "3    RT @SelenaFanClub: We have a little gift for y...  \n",
       "4    RT @rarebeauty: In honor of our founder’s birt...  \n",
       "..                                                 ...  \n",
       "195             RT @rauwalejandro: Ya falta poco ... 😬  \n",
       "196                                  @rauwalejandro 💃🏻  \n",
       "197  RT @Tainy: The video for ‘Baila Conmigo’ is ou...  \n",
       "198  RT @SteveMartinToGo: A special day on the set ...  \n",
       "199  Clearly I make people nervous when I’m in the ...  \n",
       "\n",
       "[200 rows x 3 columns]"
      ]
     },
     "execution_count": 12,
     "metadata": {},
     "output_type": "execute_result"
    }
   ],
   "source": [
    "# TADAA\n",
    "tweets_df"
   ]
  },
  {
   "cell_type": "code",
   "execution_count": 13,
   "id": "764f5fde",
   "metadata": {},
   "outputs": [
    {
     "data": {
      "text/plain": [
       "'RT @OnlyMurdersHulu: Great, as if we weren’t already dealing with enough here, my “lovely” neighbors have decided to solve the murder in th…'"
      ]
     },
     "execution_count": 13,
     "metadata": {},
     "output_type": "execute_result"
    }
   ],
   "source": [
    "# Notice that if is a retweet, it could be truncated :c\n",
    "tweets_df['Text'][0]"
   ]
  },
  {
   "cell_type": "markdown",
   "id": "18fb3e98",
   "metadata": {},
   "source": [
    "# Streaming With Tweepy"
   ]
  },
  {
   "cell_type": "code",
   "execution_count": 14,
   "id": "d405f2b1",
   "metadata": {},
   "outputs": [],
   "source": [
    "# Override tweepy.StreamListener to add logic to on_status\n",
    "class MyStreamListener(tweepy.StreamListener):\n",
    "\n",
    "    def on_status(self, status):\n",
    "        print(status.text)\n",
    "    \n",
    "    def on_error(self, status_code):\n",
    "        if status_code == 420:\n",
    "            #returning False in on_error disconnects the stream\n",
    "            print(\"I disconnected bro\")\n",
    "            return False\n",
    "\n",
    "        # returning non-False reconnects the stream, with backoff."
   ]
  },
  {
   "cell_type": "code",
   "execution_count": 15,
   "id": "ed1259d7",
   "metadata": {},
   "outputs": [],
   "source": [
    "# Creating our stream Object\n",
    "myStreamListener = MyStreamListener()\n",
    "myStream = tweepy.Stream(auth = api.auth, listener=myStreamListener)"
   ]
  },
  {
   "cell_type": "code",
   "execution_count": null,
   "id": "055e961d",
   "metadata": {
    "scrolled": true
   },
   "outputs": [],
   "source": [
    "# Filtering all tweets containing certain word\n",
    "word = 'python'\n",
    "myStream.filter(track=[word])"
   ]
  },
  {
   "cell_type": "code",
   "execution_count": null,
   "id": "7aca8d8d",
   "metadata": {
    "scrolled": true
   },
   "outputs": [],
   "source": [
    "# Filtering all tweets from a user with the twitter ID\n",
    "ID = str(user.id)\n",
    "myStream.filter(follow=[ID])"
   ]
  },
  {
   "cell_type": "code",
   "execution_count": 18,
   "id": "fcb0edaa",
   "metadata": {},
   "outputs": [],
   "source": [
    "# Disconnecting the stream\n",
    "myStream.disconnect()"
   ]
  },
  {
   "cell_type": "markdown",
   "id": "6a178ee3",
   "metadata": {},
   "source": [
    "# Now we are going to scrape the first 100 tweets from some Rodolfo's Followers c:"
   ]
  },
  {
   "cell_type": "code",
   "execution_count": null,
   "id": "9f7be58d",
   "metadata": {
    "scrolled": true
   },
   "outputs": [],
   "source": [
    "username = 'FerroRodolfo'\n",
    "# Defining some auxiliar variables\n",
    "count = 100\n",
    "tweets_dfs = {}\n",
    "maxi = 100\n",
    "\n",
    "# Getting the id for every Rodo's follower.\n",
    "followers = api.followers_ids(screen_name=username)\n",
    "# Iterating for every follower\n",
    "for index, follower in enumerate(followers[:maxi]):\n",
    "    try:\n",
    "        # Getting the user name\n",
    "        user = api.get_user(follower)\n",
    "        # Getting their tweets\n",
    "        tweets = tweepy.Cursor(api.user_timeline,id=str(follower), tweet_mode=\"extended\").items(count)\n",
    "        # Just formatting\n",
    "        tweets_dfs[user.screen_name] = [[tweet.created_at, tweet.id, tweet.full_text] for tweet in tweets]\n",
    "        # DataFraming\n",
    "        tweets_dfs[user.screen_name] = pd.DataFrame(tweets_dfs[user.screen_name], columns=['Created', 'ID', 'Text'])  \n",
    "    except:\n",
    "        # Exist some accounts that we can't access to.\n",
    "        #print(f\"User {follower} not found\")\n",
    "        pass\n",
    "    # Process Counter\n",
    "    print(f\"{index}/{maxi-1}\")\n",
    "    clear_output(wait=True)"
   ]
  },
  {
   "cell_type": "code",
   "execution_count": 33,
   "id": "11feef07",
   "metadata": {},
   "outputs": [],
   "source": [
    "# Saving these tweets in a csv file\n",
    "for user, tweets in tweets_dfs.items():\n",
    "    tweets.to_csv(f'tweets/{user}_tweets.csv', header=False, index=False)"
   ]
  },
  {
   "cell_type": "markdown",
   "id": "3bc34340",
   "metadata": {},
   "source": [
    "# The next part is applying NLP to know what the tweet is talking about and classifie them"
   ]
  },
  {
   "cell_type": "code",
   "execution_count": null,
   "id": "092ad6b6",
   "metadata": {},
   "outputs": [],
   "source": []
  }
 ],
 "metadata": {
  "kernelspec": {
   "display_name": "Python 3",
   "language": "python",
   "name": "python3"
  },
  "language_info": {
   "codemirror_mode": {
    "name": "ipython",
    "version": 3
   },
   "file_extension": ".py",
   "mimetype": "text/x-python",
   "name": "python",
   "nbconvert_exporter": "python",
   "pygments_lexer": "ipython3",
   "version": "3.9.5"
  }
 },
 "nbformat": 4,
 "nbformat_minor": 5
}
